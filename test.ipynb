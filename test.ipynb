{
 "cells": [
  {
   "cell_type": "code",
   "execution_count": 51,
   "metadata": {},
   "outputs": [],
   "source": [
    "from selenium import webdriver"
   ]
  },
  {
   "cell_type": "code",
   "execution_count": 55,
   "metadata": {},
   "outputs": [],
   "source": [
    "from selenium.webdriver.common.by import By\n",
    "train = webdriver.Chrome()\n",
    "\n",
    "train.get(\"https://www.railway.gov.tw/tra-tip-web/tip/tip001/tip121/query\")\n",
    "\n",
    "\n",
    "#Pleas follow the following format\n",
    "\n",
    "\n"
   ]
  },
  {
   "cell_type": "code",
   "execution_count": 83,
   "metadata": {},
   "outputs": [],
   "source": [
    "from selenium.webdriver.common.keys import Keys\n",
    "import time\n",
    "train = webdriver.Chrome()\n",
    "train.get('https://www.railway.gov.tw/tra-tip-web/tip/tip001/tip121/query')\n",
    "username_ele = train.find_element(\"id\" , 'pid')\n",
    "start_station = train.find_element('name', 'startStation')\n",
    "end_station = train.find_element('name', 'endStation')\n",
    "date_ele = train.find_element('id', 'rideDate1')\n",
    "train_num = train.find_element('id', 'trainNoList1')\n",
    "username_ele.send_keys(\"A229114022\")\n",
    "start_station.send_keys(\"台北\")\n",
    "end_station.send_keys(\"光復\")\n",
    "date_ele.clear()\n",
    "date_ele.send_keys(\"20230207\")\n",
    "train_num.send_keys(438)\n",
    "train.find_element(By.TAG_NAME, 'iframe').click()\n",
    "time.sleep(1)\n",
    "#book\n",
    "train.find_element(By.CLASS_NAME , \"btn-3d\").send_keys(Keys.ENTER)\n"
   ]
  }
 ],
 "metadata": {
  "kernelspec": {
   "display_name": "Python 3",
   "language": "python",
   "name": "python3"
  },
  "language_info": {
   "codemirror_mode": {
    "name": "ipython",
    "version": 3
   },
   "file_extension": ".py",
   "mimetype": "text/x-python",
   "name": "python",
   "nbconvert_exporter": "python",
   "pygments_lexer": "ipython3",
   "version": "3.9.6"
  },
  "orig_nbformat": 4,
  "vscode": {
   "interpreter": {
    "hash": "31f2aee4e71d21fbe5cf8b01ff0e069b9275f58929596ceb00d14d90e3e16cd6"
   }
  }
 },
 "nbformat": 4,
 "nbformat_minor": 2
}
